{
 "cells": [
  {
   "cell_type": "code",
   "execution_count": 16,
   "metadata": {},
   "outputs": [],
   "source": [
    "import pandas as pd\n",
    "import numpy as np\n",
    "import matplotlib.pyplot as plt\n",
    "import seaborn as sns"
   ]
  },
  {
   "cell_type": "code",
   "execution_count": 17,
   "metadata": {},
   "outputs": [],
   "source": [
    "# đọc file\n",
    "csv1 = pd.read_csv('AdvWorksCusts.csv')\n",
    "csv2 = pd.read_csv('AW_AveMonthSpend.csv')\n",
    "csv3 = pd.read_csv('AW_BikeBuyer.csv')\n",
    "\n",
    "# Xóa các dòng trùng nhau trong dataframe\n",
    "csv1 = csv1.drop_duplicates('CustomerID', 'last')\n",
    "csv2 = csv2.drop_duplicates('CustomerID', 'last')\n",
    "csv3 = csv3.drop_duplicates('CustomerID', 'last')\n",
    "\n",
    "# Nối các dataframe lại thành 1 bảng theo trường CustomerID\n",
    "csv = csv1.merge(csv2, on = 'CustomerID')\n",
    "csv = csv.merge(csv3, on = 'CustomerID')\n",
    "#csv = pd.read_csv('AW_test.csv')\n"
   ]
  },
  {
   "cell_type": "code",
   "execution_count": 18,
   "metadata": {},
   "outputs": [],
   "source": [
    "# Tìm các đối tượng bị thiếu\n",
    "#def find_missing_value(csv, missing_char):\n",
    "#    for col in csv.columns:\n",
    "#        if csv[col].dtype == object:\n",
    "#            count = [1 for x in csv[col] if x is missing_char]\n",
    "#            print (col + ' ' + str(np.sum(count)))\n",
    "#find_missing_value(csv, np.nan)\n",
    "\n",
    "# Các trường MiddleName, Suffix, AddressLine2, Title có nhiều giá trị nan nên sẽ bị xóa bỏ\n",
    "csv = csv.drop(['MiddleName','Suffix','AddressLine2','Title'], axis=1)\n",
    "\n",
    "# Các trường ID, FirstName, LastName, PhoneNumber không giúp ích cho việc phân loại, sẽ bị xóa\n",
    "#csv = csv.drop(['CustomerID','FirstName','LastName','PhoneNumber'], axis=1)\n",
    "csv = csv.drop(['FirstName','LastName','PhoneNumber'], axis=1)"
   ]
  },
  {
   "cell_type": "code",
   "execution_count": 19,
   "metadata": {},
   "outputs": [],
   "source": [
    "# Tạo 1 hàm tìm hiểu số trường hợp xảy ra của các biến dạng phân loại\n",
    "# 1 biến phân loại có thể có bao nhiêu giá trị, các giá trị đó xuất hiện bao nhiêu lần \n",
    "# Từ đó quyết định có nên giữ biến đó không\n",
    "#def count_case_classification_variable(csv, list_columns):\n",
    "#    for col in list_columns:\n",
    "#        print (col)\n",
    "#        print (csv[col].count())\n",
    "#        print (csv[col].nunique())\n",
    "#        print (csv[col].value_counts())\n",
    "#        print (csv[[col, 'BikeBuyer']].groupby(col).sum().sort_values('BikeBuyer', ascending = False))\n",
    "#        print (\"-\" * 60)\n",
    "#list_columns = ['AddressLine1','City','StateProvinceName','CountryRegionName','PostalCode','BirthDate','Education','Occupation','Gender','MaritalStatus']\n",
    "#count_case_classification_variable(csv, list_columns)"
   ]
  },
  {
   "cell_type": "code",
   "execution_count": 20,
   "metadata": {},
   "outputs": [],
   "source": [
    "# Về trường AddressLine1, ta có thể gộp những khu phố vào 1 nhóm\n",
    "# Bỏ các số nhà và giữ lại tên khu phố họ sống \n",
    "#tmp = []\n",
    "#for address in csv['AddressLine1']:\n",
    "#    c = [x for x in address if x not in ['1','2','3','4','5','6','7','8','9','0',',','.']]\n",
    "#    tmp += [''.join(c)]\n",
    "#csv['AddressLine1'] = tmp\n",
    "\n",
    "# Kiểm tra lại dữ liệu sau khi \n",
    "#print (csv['AddressLine1'].value_counts())\n",
    "#print (csv[['AddressLine1','BikeBuyer']].groupby('AddressLine1').mean().sort_values('BikeBuyer', ascending = False))\n",
    "# Do sau khi ghép dữ liệu, trường AddressLine1 còn khá nhiều giá trị khác nhau, đồng thời mỗi nhóm phố \n",
    "# không có nhóm phố nào nổi bật (Mua nhiều xe hơn hẳn các phố còn lại). Do đó ta sẽ loại trường AddressLine1\n",
    "csv = csv.drop('AddressLine1', axis = 1)"
   ]
  },
  {
   "cell_type": "code",
   "execution_count": 22,
   "metadata": {},
   "outputs": [],
   "source": [
    "# Thay trường BirthDate bằng Age\n",
    "year_of_birth = [x[:4] for x in csv['BirthDate']]\n",
    "#year_of_birth = [x[-4:] for x in csv['BirthDate']]\n",
    "csv['Age'] = [1998 - int(x) for x in year_of_birth]\n",
    "\n",
    "tmp = []\n",
    "for x in csv['Age']:\n",
    "    if x < 25: tmp += ['<25']\n",
    "    elif x >= 25 and x < 45: tmp += ['25,45']\n",
    "    elif x >= 45 and x < 55: tmp += ['45,55']\n",
    "    else: tmp += ['>=55']\n",
    "csv['Age'] = tmp\n",
    "csv = csv.drop('BirthDate', axis = 1)"
   ]
  },
  {
   "cell_type": "code",
   "execution_count": 23,
   "metadata": {},
   "outputs": [],
   "source": [
    "csv.head()\n",
    "csv = csv.drop(['City','StateProvinceName','CountryRegionName','PostalCode'], axis = 1)"
   ]
  },
  {
   "cell_type": "code",
   "execution_count": 24,
   "metadata": {},
   "outputs": [],
   "source": [
    "# Kiểm tra lại số liệu trước khi tiến hành xây dựng học máy \n",
    "#list_columns = ['City','StateProvinceName','CountryRegionName','PostalCode','Age','Education','Occupation','Gender','MaritalStatus']\n",
    "#count_case_classification_variable(csv, list_columns)"
   ]
  },
  {
   "cell_type": "code",
   "execution_count": 25,
   "metadata": {},
   "outputs": [],
   "source": [
    "csv.to_csv('CSV.csv')"
   ]
  },
  {
   "cell_type": "code",
   "execution_count": null,
   "metadata": {},
   "outputs": [],
   "source": []
  },
  {
   "cell_type": "code",
   "execution_count": null,
   "metadata": {},
   "outputs": [],
   "source": []
  },
  {
   "cell_type": "code",
   "execution_count": null,
   "metadata": {},
   "outputs": [],
   "source": []
  }
 ],
 "metadata": {
  "kernelspec": {
   "display_name": "Python 3",
   "language": "python",
   "name": "python3"
  },
  "language_info": {
   "codemirror_mode": {
    "name": "ipython",
    "version": 3
   },
   "file_extension": ".py",
   "mimetype": "text/x-python",
   "name": "python",
   "nbconvert_exporter": "python",
   "pygments_lexer": "ipython3",
   "version": "3.6.6"
  }
 },
 "nbformat": 4,
 "nbformat_minor": 2
}
